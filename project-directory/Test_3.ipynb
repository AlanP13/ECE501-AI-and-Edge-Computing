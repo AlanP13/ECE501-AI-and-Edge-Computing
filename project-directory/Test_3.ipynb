{
 "cells": [
  {
   "cell_type": "code",
   "execution_count": 1,
   "id": "45431d11",
   "metadata": {
    "papermill": {
     "duration": 1.795449,
     "end_time": "2023-06-12T18:09:03.863955",
     "exception": false,
     "start_time": "2023-06-12T18:09:02.068506",
     "status": "completed"
    },
    "tags": []
   },
   "outputs": [
    {
     "name": "stdout",
     "output_type": "stream",
     "text": [
      "Video is blacked out. Stopping capture.\n"
     ]
    }
   ],
   "source": [
    "import os\n",
    "import cv2\n",
    "import numpy as np\n",
    "\n",
    "# Create the test directory to save frames\n",
    "test_dir = \"test\"\n",
    "os.makedirs(test_dir, exist_ok=True)\n",
    "\n",
    "# Initialize the video capture from the webcam\n",
    "video = cv2.VideoCapture(0)  # 0 indicates the default webcam\n",
    "\n",
    "# Initialize frame counter and black frame counter\n",
    "frame_count = 0\n",
    "black_frame_count = 0\n",
    "consecutive_black_frame_threshold = 30  # Adjust as needed\n",
    "\n",
    "# Read frames from the webcam until a key is pressed or video is considered blacked out\n",
    "while True:\n",
    "    # Read a frame from the webcam\n",
    "    ret, frame = video.read()\n",
    "\n",
    "    # Convert the frame to grayscale\n",
    "    gray_frame = cv2.cvtColor(frame, cv2.COLOR_BGR2GRAY)\n",
    "\n",
    "    # Threshold the grayscale frame to get a binary image\n",
    "    _, thresholded = cv2.threshold(gray_frame, 30, 255, cv2.THRESH_BINARY)\n",
    "\n",
    "    # Calculate the percentage of black pixels in the thresholded image\n",
    "    black_pixel_ratio = np.mean(thresholded < 10)\n",
    "\n",
    "    # Display the frame (optional)\n",
    "    cv2.imshow(\"Webcam\", frame)\n",
    "\n",
    "    # Save the frame as an image in the test directory if the black pixel ratio is below a threshold\n",
    "    if black_pixel_ratio < 0.9:\n",
    "        frame_path = os.path.join(test_dir, f\"frame_{frame_count}.jpg\")\n",
    "        cv2.imwrite(frame_path, frame)\n",
    "        frame_count += 1\n",
    "        black_frame_count = 0\n",
    "    else:\n",
    "        black_frame_count += 1\n",
    "\n",
    "    # Check if consecutive black frames threshold is exceeded\n",
    "    if black_frame_count >= consecutive_black_frame_threshold:\n",
    "        print(\"Video is blacked out. Stopping capture.\")\n",
    "        break\n",
    "\n",
    "    # Check for key press to exit\n",
    "    if cv2.waitKey(1) & 0xFF == ord('q'):\n",
    "        break\n",
    "\n",
    "# Release the video capture and close the display window\n",
    "video.release()\n",
    "cv2.destroyAllWindows()"
   ]
  },
  {
   "cell_type": "code",
   "execution_count": 2,
   "id": "8bb8a6b0",
   "metadata": {
    "execution": {
     "iopub.execute_input": "2023-06-12T14:15:01.222227Z",
     "iopub.status.busy": "2023-06-12T14:15:01.221924Z",
     "iopub.status.idle": "2023-06-12T14:15:08.957974Z",
     "shell.execute_reply": "2023-06-12T14:15:08.957073Z"
    },
    "papermill": {
     "duration": 7.74471,
     "end_time": "2023-06-12T14:15:08.960385",
     "exception": false,
     "start_time": "2023-06-12T14:15:01.215675",
     "status": "completed"
    },
    "tags": []
   },
   "outputs": [],
   "source": [
    "#Dataset\n",
    "# https://www.kaggle.com/datasets/vipoooool/new-plant-diseases-dataset      \n",
    "import os\n",
    "import numpy as np\n",
    "import pandas as pd\n",
    "import tensorflow as tf\n",
    "from tensorflow.keras.preprocessing.image import ImageDataGenerator\n",
    "from tensorflow.keras.layers import Dense, GlobalAveragePooling2D\n",
    "from tensorflow.keras.models import Model\n",
    "from sklearn.metrics import classification_report"
   ]
  },
  {
   "cell_type": "code",
   "execution_count": 3,
   "id": "2f74ef01",
   "metadata": {
    "execution": {
     "iopub.execute_input": "2023-06-12T14:15:08.972726Z",
     "iopub.status.busy": "2023-06-12T14:15:08.971663Z",
     "iopub.status.idle": "2023-06-12T14:15:08.977107Z",
     "shell.execute_reply": "2023-06-12T14:15:08.976243Z"
    },
    "papermill": {
     "duration": 0.013398,
     "end_time": "2023-06-12T14:15:08.979092",
     "exception": false,
     "start_time": "2023-06-12T14:15:08.965694",
     "status": "completed"
    },
    "tags": []
   },
   "outputs": [],
   "source": [
    "# Set the seed for reproducibility\n",
    "np.random.seed(42)\n",
    "tf.random.set_seed(42)\n",
    "\n",
    "# Data directories\n",
    "train_dir = \"dataset/train\"\n",
    "valid_dir = \"dataset/valid\""
   ]
  },
  {
   "cell_type": "code",
   "execution_count": 4,
   "id": "d4b2ca77",
   "metadata": {
    "execution": {
     "iopub.execute_input": "2023-06-12T14:15:08.990197Z",
     "iopub.status.busy": "2023-06-12T14:15:08.989931Z",
     "iopub.status.idle": "2023-06-12T14:15:09.028376Z",
     "shell.execute_reply": "2023-06-12T14:15:09.027202Z"
    },
    "papermill": {
     "duration": 0.046194,
     "end_time": "2023-06-12T14:15:09.030318",
     "exception": false,
     "start_time": "2023-06-12T14:15:08.984124",
     "status": "completed"
    },
    "tags": []
   },
   "outputs": [
    {
     "ename": "FileNotFoundError",
     "evalue": "[Errno 2] No such file or directory: 'D:\\\\Downloads\\\\plant disease detection\\\\dataset\\\\New Plant Diseases Dataset(Augmented)\\\\train\\\\Apple___Apple_scab\\\\0a5e9323-dbad-432d-ac58-d291718345d9___FREC_Scab 3417_90deg.JPG'",
     "output_type": "error",
     "traceback": [
      "\u001b[1;31m---------------------------------------------------------------------------\u001b[0m",
      "\u001b[1;31mFileNotFoundError\u001b[0m                         Traceback (most recent call last)",
      "Cell \u001b[1;32mIn[4], line 7\u001b[0m\n\u001b[0;32m      4\u001b[0m image_path \u001b[39m=\u001b[39m \u001b[39mr\u001b[39m\u001b[39m'\u001b[39m\u001b[39mD:\u001b[39m\u001b[39m\\\u001b[39m\u001b[39mDownloads\u001b[39m\u001b[39m\\\u001b[39m\u001b[39mplant disease detection\u001b[39m\u001b[39m\\\u001b[39m\u001b[39mdataset\u001b[39m\u001b[39m\\\u001b[39m\u001b[39mNew Plant Diseases Dataset(Augmented)\u001b[39m\u001b[39m\\\u001b[39m\u001b[39mtrain\u001b[39m\u001b[39m\\\u001b[39m\u001b[39mApple___Apple_scab\u001b[39m\u001b[39m\\\u001b[39m\u001b[39m0a5e9323-dbad-432d-ac58-d291718345d9___FREC_Scab 3417_90deg.JPG\u001b[39m\u001b[39m'\u001b[39m  \u001b[39m# Replace with the actual path to your image\u001b[39;00m\n\u001b[0;32m      6\u001b[0m \u001b[39m# Open the image using PIL (Python Imaging Library)\u001b[39;00m\n\u001b[1;32m----> 7\u001b[0m image \u001b[39m=\u001b[39m Image\u001b[39m.\u001b[39;49mopen(image_path)\n\u001b[0;32m      9\u001b[0m \u001b[39m# Get the size of the image\u001b[39;00m\n\u001b[0;32m     10\u001b[0m img_width, img_height \u001b[39m=\u001b[39m image\u001b[39m.\u001b[39msize\n",
      "File \u001b[1;32mc:\\Users\\alanp\\AppData\\Local\\Programs\\Python\\Python311\\Lib\\site-packages\\PIL\\Image.py:3236\u001b[0m, in \u001b[0;36mopen\u001b[1;34m(fp, mode, formats)\u001b[0m\n\u001b[0;32m   3233\u001b[0m     filename \u001b[39m=\u001b[39m fp\n\u001b[0;32m   3235\u001b[0m \u001b[39mif\u001b[39;00m filename:\n\u001b[1;32m-> 3236\u001b[0m     fp \u001b[39m=\u001b[39m builtins\u001b[39m.\u001b[39;49mopen(filename, \u001b[39m\"\u001b[39;49m\u001b[39mrb\u001b[39;49m\u001b[39m\"\u001b[39;49m)\n\u001b[0;32m   3237\u001b[0m     exclusive_fp \u001b[39m=\u001b[39m \u001b[39mTrue\u001b[39;00m\n\u001b[0;32m   3239\u001b[0m \u001b[39mtry\u001b[39;00m:\n",
      "\u001b[1;31mFileNotFoundError\u001b[0m: [Errno 2] No such file or directory: 'D:\\\\Downloads\\\\plant disease detection\\\\dataset\\\\New Plant Diseases Dataset(Augmented)\\\\train\\\\Apple___Apple_scab\\\\0a5e9323-dbad-432d-ac58-d291718345d9___FREC_Scab 3417_90deg.JPG'"
     ]
    }
   ],
   "source": [
    "from PIL import Image\n",
    "\n",
    "# Specify the path to the image\n",
    "image_path = r'D:\\Downloads\\plant disease detection\\dataset\\New Plant Diseases Dataset(Augmented)\\train\\Apple___Apple_scab\\0a5e9323-dbad-432d-ac58-d291718345d9___FREC_Scab 3417_90deg.JPG'  # Replace with the actual path to your image\n",
    "\n",
    "# Open the image using PIL (Python Imaging Library)\n",
    "image = Image.open(image_path)\n",
    "\n",
    "# Get the size of the image\n",
    "img_width, img_height = image.size\n",
    "\n",
    "# Print the image size\n",
    "print(\"Image size: {} x {}\".format(img_width, img_height))\n",
    "\n",
    "# Specify the number of classes (assumed for a classification task)\n",
    "num_classes = 38"
   ]
  },
  {
   "cell_type": "code",
   "execution_count": null,
   "id": "681ce15e",
   "metadata": {
    "execution": {
     "iopub.execute_input": "2023-06-12T14:15:09.041424Z",
     "iopub.status.busy": "2023-06-12T14:15:09.041178Z",
     "iopub.status.idle": "2023-06-12T14:15:09.046323Z",
     "shell.execute_reply": "2023-06-12T14:15:09.045435Z"
    },
    "papermill": {
     "duration": 0.012911,
     "end_time": "2023-06-12T14:15:09.048260",
     "exception": false,
     "start_time": "2023-06-12T14:15:09.035349",
     "status": "completed"
    },
    "tags": []
   },
   "outputs": [],
   "source": [
    "# Data augmentation and preprocessing for the training set\n",
    "train_datagen = ImageDataGenerator(\n",
    "    \n",
    "    # Rescale pixel values between 0 and 1\n",
    "    rescale=1./255,  \n",
    "    \n",
    "    # Random rotation between -20 to +20 degrees\n",
    "    rotation_range=20,  \n",
    "    \n",
    "    # Random horizontal shift within 20% of image width\n",
    "    width_shift_range=0.2,  \n",
    "    \n",
    "    # Random vertical shift within 20% of image height\n",
    "    height_shift_range=0.2,  \n",
    "    \n",
    "    # Random shearing transformation\n",
    "    shear_range=0.2,  \n",
    "    \n",
    "    # Random zooming within 20%\n",
    "    zoom_range=0.2, \n",
    "    \n",
    "    # Randomly flip images horizontally\n",
    "    horizontal_flip=True  \n",
    ")\n",
    "\n",
    "# Data preprocessing for the validation set to rescale pixel values between 0 and 1\n",
    "valid_datagen = ImageDataGenerator(rescale=1./255)  \n",
    "\n",
    "# Data preprocessing for the test set (if applicable) to rescale pixel values between 0 and 1\n",
    "# test_datagen = ImageDataGenerator(rescale=1./255)"
   ]
  },
  {
   "cell_type": "code",
   "execution_count": null,
   "id": "34ed5cce",
   "metadata": {
    "execution": {
     "iopub.execute_input": "2023-06-12T14:15:09.059801Z",
     "iopub.status.busy": "2023-06-12T14:15:09.059098Z",
     "iopub.status.idle": "2023-06-12T14:16:41.494751Z",
     "shell.execute_reply": "2023-06-12T14:16:41.493894Z"
    },
    "papermill": {
     "duration": 92.443871,
     "end_time": "2023-06-12T14:16:41.497126",
     "exception": false,
     "start_time": "2023-06-12T14:15:09.053255",
     "status": "completed"
    },
    "tags": []
   },
   "outputs": [],
   "source": [
    "# Local directory path\n",
    "train_dir = r'D:\\Downloads\\plant disease detection\\dataset\\New Plant Diseases Dataset(Augmented)\\train'\n",
    "\n",
    "# Create a data generator for training data\n",
    "train_generator = train_datagen.flow_from_directory(\n",
    "    \n",
    "    # Directory containing the training data\n",
    "    train_dir,  \n",
    "    \n",
    "    # Resize images to a specific width and height\n",
    "    target_size=(img_width, img_height),  \n",
    "    \n",
    "    # Number of images in each batch\n",
    "    batch_size=32,  \n",
    "    \n",
    "    # Type of labels (categorical for multi-class classification)\n",
    "    class_mode='categorical'  \n",
    ")\n",
    "\n",
    "# Local directory path\n",
    "valid_dir = r'D:\\Downloads\\plant disease detection\\dataset\\New Plant Diseases Dataset(Augmented)\\valid'\n",
    "\n",
    "# Create a data generator for validation data\n",
    "valid_generator = valid_datagen.flow_from_directory(\n",
    "    \n",
    "    # Directory containing the validation data\n",
    "    valid_dir,  \n",
    "    \n",
    "    # Resize images to a specific width and height\n",
    "    target_size=(img_width, img_height),  \n",
    "    \n",
    "    # Number of images in each batch\n",
    "    batch_size=32,  \n",
    "    \n",
    "    # Type of labels (categorical for multi-class classification)\n",
    "    class_mode='categorical',  \n",
    "    \n",
    "    # Do not shuffle the data (preserve the order)\n",
    "    shuffle=False  \n",
    ")"
   ]
  },
  {
   "cell_type": "code",
   "execution_count": null,
   "id": "8c34d2ec",
   "metadata": {
    "execution": {
     "iopub.execute_input": "2023-06-12T14:16:41.509327Z",
     "iopub.status.busy": "2023-06-12T14:16:41.509047Z",
     "iopub.status.idle": "2023-06-12T18:07:19.866172Z",
     "shell.execute_reply": "2023-06-12T18:07:19.865129Z"
    },
    "papermill": {
     "duration": 13838.365899,
     "end_time": "2023-06-12T18:07:19.868583",
     "exception": false,
     "start_time": "2023-06-12T14:16:41.502684",
     "status": "completed"
    },
    "tags": []
   },
   "outputs": [],
   "source": [
    "from tensorflow.keras.applications import DenseNet121\n",
    "\n",
    "# Load the pre-trained DenseNet201 model\n",
    "base_model = DenseNet121(weights='imagenet', include_top=False, input_shape=(img_width, img_height, 3))\n",
    "\n",
    "# Add custom classification layers on top of the pre-trained model\n",
    "x = base_model.output\n",
    "x = GlobalAveragePooling2D()(x)\n",
    "x = Dense(512, activation='relu')(x)\n",
    "predictions = Dense(num_classes, activation='softmax')(x)\n",
    "\n",
    "model = Model(inputs=base_model.input, outputs=predictions)\n",
    "\n",
    "# Compile the model\n",
    "model.compile(optimizer='adam', loss='categorical_crossentropy', metrics=['accuracy'])\n",
    "\n",
    "# Train the model\n",
    "history = model.fit(\n",
    "    train_generator,\n",
    "    steps_per_epoch=train_generator.samples // train_generator.batch_size,\n",
    "    epochs=10,\n",
    "    validation_data=valid_generator,\n",
    "    validation_steps=valid_generator.samples // valid_generator.batch_size\n",
    ")"
   ]
  },
  {
   "cell_type": "code",
   "execution_count": null,
   "id": "611d44d4",
   "metadata": {
    "execution": {
     "iopub.execute_input": "2023-06-12T18:07:23.447488Z",
     "iopub.status.busy": "2023-06-12T18:07:23.447052Z",
     "iopub.status.idle": "2023-06-12T18:07:24.968877Z",
     "shell.execute_reply": "2023-06-12T18:07:24.967924Z"
    },
    "papermill": {
     "duration": 3.447653,
     "end_time": "2023-06-12T18:07:24.971634",
     "exception": false,
     "start_time": "2023-06-12T18:07:21.523981",
     "status": "completed"
    },
    "tags": []
   },
   "outputs": [],
   "source": [
    "# Save the trained model to a file\n",
    "model.save('trained.h5')"
   ]
  },
  {
   "cell_type": "code",
   "execution_count": null,
   "id": "b3df1289",
   "metadata": {},
   "outputs": [],
   "source": [
    "import tensorflow as tf\n",
    "from tensorflow.keras.preprocessing.image import ImageDataGenerator\n",
    "\n",
    "# Load the pre-trained model\n",
    "model = tf.keras.models.load_model('trained.h5')\n",
    "\n",
    "# Evaluate the model on the validation generator\n",
    "loss, accuracy = model.evaluate(valid_generator)\n",
    "\n",
    "# Print the accuracy percentage\n",
    "print('Accuracy: {:.2f}%'.format(accuracy * 100))"
   ]
  },
  {
   "cell_type": "code",
   "execution_count": null,
   "id": "d2d52aad",
   "metadata": {
    "execution": {
     "iopub.execute_input": "2023-06-12T18:07:28.457144Z",
     "iopub.status.busy": "2023-06-12T18:07:28.456768Z",
     "iopub.status.idle": "2023-06-12T18:08:58.593563Z",
     "shell.execute_reply": "2023-06-12T18:08:58.592543Z"
    },
    "papermill": {
     "duration": 93.652381,
     "end_time": "2023-06-12T18:09:00.371080",
     "exception": false,
     "start_time": "2023-06-12T18:07:26.718699",
     "status": "completed"
    },
    "tags": []
   },
   "outputs": [],
   "source": [
    "import math\n",
    "\n",
    "# Function to calculate Vapor Pressure Deficit (VPD)\n",
    "def calculate_vpd(temperature, humidity):\n",
    "    # Calculate saturation vapor pressure using the temperature\n",
    "    saturation_vapor_pressure = 0.611 * math.exp((17.27 * temperature) / (temperature + 237.3))\n",
    "    \n",
    "    # Calculate actual vapor pressure using saturation vapor pressure and humidity\n",
    "    actual_vapor_pressure = saturation_vapor_pressure * (humidity / 100)\n",
    "    \n",
    "    # Calculate Vapor Pressure Deficit (VPD) as the difference between saturation vapor pressure and actual vapor pressure\n",
    "    vpd = saturation_vapor_pressure - actual_vapor_pressure\n",
    "    \n",
    "    return vpd\n",
    "\n",
    "# Function to check if irrigation is needed based on VPD and humidity thresholds\n",
    "def check_irrigation_needed(vpd_threshold, humidity_threshold):\n",
    "    # Get temperature and humidity input from user\n",
    "    temperature = float(input(\"Temperature (in degrees Celsius): \"))\n",
    "    humidity = float(input(\"Humidity (in percentage): \"))\n",
    "    \n",
    "    # Calculate VPD using the provided temperature and humidity\n",
    "    vpd = calculate_vpd(temperature, humidity)\n",
    "    \n",
    "    # Check if irrigation is needed based on VPD and humidity thresholds\n",
    "    if vpd > vpd_threshold and humidity < humidity_threshold:\n",
    "        print(\"Irrigation is needed for the leaves.\")\n",
    "    else:\n",
    "        print(\"No irrigation is needed for the leaves.\")\n",
    "\n",
    "# Define the VPD and humidity thresholds (adjust these values based on plant requirements)\n",
    "vpd_threshold = 1.5\n",
    "humidity_threshold = 60\n",
    "\n",
    "# Call the function to check if irrigation is needed\n",
    "check_irrigation_needed(vpd_threshold, humidity_threshold)\n"
   ]
  }
 ],
 "metadata": {
  "kernelspec": {
   "display_name": "Python 3 (ipykernel)",
   "language": "python",
   "name": "python3"
  },
  "language_info": {
   "codemirror_mode": {
    "name": "ipython",
    "version": 3
   },
   "file_extension": ".py",
   "mimetype": "text/x-python",
   "name": "python",
   "nbconvert_exporter": "python",
   "pygments_lexer": "ipython3",
   "version": "3.11.1"
  },
  "papermill": {
   "default_parameters": {},
   "duration": 14072.427913,
   "end_time": "2023-06-12T18:09:09.278082",
   "environment_variables": {},
   "exception": null,
   "input_path": "__notebook__.ipynb",
   "output_path": "__notebook__.ipynb",
   "parameters": {},
   "start_time": "2023-06-12T14:14:36.850169",
   "version": "2.4.0"
  }
 },
 "nbformat": 4,
 "nbformat_minor": 5
}
