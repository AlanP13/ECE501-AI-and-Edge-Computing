{
 "cells": [
  {
   "cell_type": "code",
   "execution_count": 2,
   "id": "45431d11",
   "metadata": {
    "papermill": {
     "duration": 1.795449,
     "end_time": "2023-06-12T18:09:03.863955",
     "exception": false,
     "start_time": "2023-06-12T18:09:02.068506",
     "status": "completed"
    },
    "tags": []
   },
   "outputs": [
    {
     "name": "stdout",
     "output_type": "stream",
     "text": [
      "Video is blacked out. Stopping capture.\n"
     ]
    }
   ],
   "source": [
    "import os\n",
    "import cv2\n",
    "import numpy as np\n",
    "\n",
    "# Create the test directory to save frames\n",
    "test_dir = \"test\"\n",
    "os.makedirs(test_dir, exist_ok=True)\n",
    "\n",
    "# Delete all files in the test directory before saving frames\n",
    "file_list = os.listdir(test_dir)\n",
    "for file_name in file_list:\n",
    "    file_path = os.path.join(test_dir, file_name)\n",
    "    os.remove(file_path)\n",
    "\n",
    "# Initialize the video capture from the webcam\n",
    "video = cv2.VideoCapture(0)  # 0 indicates the default webcam\n",
    "\n",
    "# Initialize frame counter and black frame counter\n",
    "frame_count = 0\n",
    "black_frame_count = 0\n",
    "consecutive_black_frame_threshold = 30  # Adjust as needed\n",
    "\n",
    "# Read frames from the webcam until a key is pressed or video is considered blacked out\n",
    "while True:\n",
    "    # Read a frame from the webcam\n",
    "    ret, frame = video.read()\n",
    "\n",
    "    # Convert the frame to grayscale\n",
    "    gray_frame = cv2.cvtColor(frame, cv2.COLOR_BGR2GRAY)\n",
    "\n",
    "    # Threshold the grayscale frame to get a binary image\n",
    "    _, thresholded = cv2.threshold(gray_frame, 30, 255, cv2.THRESH_BINARY)\n",
    "\n",
    "    # Calculate the percentage of black pixels in the thresholded image\n",
    "    black_pixel_ratio = np.mean(thresholded < 10)\n",
    "\n",
    "    # Display the frame (optional)\n",
    "    cv2.imshow(\"Webcam\", frame)\n",
    "\n",
    "    # Save the frame as an image in the test directory if the black pixel ratio is below a threshold\n",
    "    if black_pixel_ratio < 0.9:\n",
    "        frame_path = os.path.join(test_dir, f\"frame_{frame_count}.jpg\")\n",
    "        cv2.imwrite(frame_path, frame)\n",
    "        frame_count += 1\n",
    "        black_frame_count = 0\n",
    "    else:\n",
    "        black_frame_count += 1\n",
    "\n",
    "    # Check if consecutive black frames threshold is exceeded\n",
    "    if black_frame_count >= consecutive_black_frame_threshold:\n",
    "        print(\"Video is blacked out. Stopping capture.\")\n",
    "        break\n",
    "\n",
    "    # Check for key press to exit\n",
    "    if cv2.waitKey(1) & 0xFF == ord('q'):\n",
    "        break\n",
    "\n",
    "# Release the video capture and close the display window\n",
    "video.release()\n",
    "cv2.destroyAllWindows()\n"
   ]
  },
  {
   "cell_type": "code",
   "execution_count": null,
   "id": "d2d52aad",
   "metadata": {
    "execution": {
     "iopub.execute_input": "2023-06-12T18:07:28.457144Z",
     "iopub.status.busy": "2023-06-12T18:07:28.456768Z",
     "iopub.status.idle": "2023-06-12T18:08:58.593563Z",
     "shell.execute_reply": "2023-06-12T18:08:58.592543Z"
    },
    "papermill": {
     "duration": 93.652381,
     "end_time": "2023-06-12T18:09:00.371080",
     "exception": false,
     "start_time": "2023-06-12T18:07:26.718699",
     "status": "completed"
    },
    "tags": []
   },
   "outputs": [],
   "source": [
    "import math\n",
    "\n",
    "# Function to calculate Vapor Pressure Deficit (VPD)\n",
    "def calculate_vpd(temperature, humidity):\n",
    "    # Calculate saturation vapor pressure using the temperature\n",
    "    saturation_vapor_pressure = 0.611 * math.exp((17.27 * temperature) / (temperature + 237.3))\n",
    "    \n",
    "    # Calculate actual vapor pressure using saturation vapor pressure and humidity\n",
    "    actual_vapor_pressure = saturation_vapor_pressure * (humidity / 100)\n",
    "    \n",
    "    # Calculate Vapor Pressure Deficit (VPD) as the difference between saturation vapor pressure and actual vapor pressure\n",
    "    vpd = saturation_vapor_pressure - actual_vapor_pressure\n",
    "    \n",
    "    return vpd\n",
    "\n",
    "# Function to check if irrigation is needed based on VPD and humidity thresholds\n",
    "def check_irrigation_needed(vpd_threshold, humidity_threshold):\n",
    "    # Get temperature and humidity input from user\n",
    "    temperature = float(input(\"Temperature (in degrees Celsius): \"))\n",
    "    humidity = float(input(\"Humidity (in percentage): \"))\n",
    "    \n",
    "    # Calculate VPD using the provided temperature and humidity\n",
    "    vpd = calculate_vpd(temperature, humidity)\n",
    "    \n",
    "    # Check if irrigation is needed based on VPD and humidity thresholds\n",
    "    if vpd > vpd_threshold and humidity < humidity_threshold:\n",
    "        print(\"Irrigation is needed for the leaves.\")\n",
    "    else:\n",
    "        print(\"No irrigation is needed for the leaves.\")\n",
    "\n",
    "# Define the VPD and humidity thresholds (adjust these values based on plant requirements)\n",
    "vpd_threshold = 1.5\n",
    "humidity_threshold = 60\n",
    "\n",
    "# Call the function to check if irrigation is needed\n",
    "check_irrigation_needed(vpd_threshold, humidity_threshold)\n"
   ]
  }
 ],
 "metadata": {
  "kernelspec": {
   "display_name": "Python 3 (ipykernel)",
   "language": "python",
   "name": "python3"
  },
  "language_info": {
   "codemirror_mode": {
    "name": "ipython",
    "version": 3
   },
   "file_extension": ".py",
   "mimetype": "text/x-python",
   "name": "python",
   "nbconvert_exporter": "python",
   "pygments_lexer": "ipython3",
   "version": "3.11.1"
  },
  "papermill": {
   "default_parameters": {},
   "duration": 14072.427913,
   "end_time": "2023-06-12T18:09:09.278082",
   "environment_variables": {},
   "exception": null,
   "input_path": "__notebook__.ipynb",
   "output_path": "__notebook__.ipynb",
   "parameters": {},
   "start_time": "2023-06-12T14:14:36.850169",
   "version": "2.4.0"
  }
 },
 "nbformat": 4,
 "nbformat_minor": 5
}
