{
 "cells": [
  {
   "cell_type": "code",
   "execution_count": null,
   "id": "8bb8a6b0",
   "metadata": {
    "execution": {
     "iopub.execute_input": "2023-06-12T14:15:01.222227Z",
     "iopub.status.busy": "2023-06-12T14:15:01.221924Z",
     "iopub.status.idle": "2023-06-12T14:15:08.957974Z",
     "shell.execute_reply": "2023-06-12T14:15:08.957073Z"
    },
    "papermill": {
     "duration": 7.74471,
     "end_time": "2023-06-12T14:15:08.960385",
     "exception": false,
     "start_time": "2023-06-12T14:15:01.215675",
     "status": "completed"
    },
    "tags": []
   },
   "outputs": [],
   "source": [
    "#Dataset\n",
    "# https://www.kaggle.com/datasets/vipoooool/new-plant-diseases-dataset      \n",
    "import os\n",
    "import numpy as np\n",
    "import pandas as pd\n",
    "import tensorflow as tf\n",
    "from tensorflow.keras.preprocessing.image import ImageDataGenerator\n",
    "from tensorflow.keras.layers import Dense, GlobalAveragePooling2D\n",
    "from tensorflow.keras.models import Model\n",
    "from sklearn.metrics import classification_report\n"
   ]
  },
  {
   "cell_type": "code",
   "execution_count": null,
   "id": "2f74ef01",
   "metadata": {
    "execution": {
     "iopub.execute_input": "2023-06-12T14:15:08.972726Z",
     "iopub.status.busy": "2023-06-12T14:15:08.971663Z",
     "iopub.status.idle": "2023-06-12T14:15:08.977107Z",
     "shell.execute_reply": "2023-06-12T14:15:08.976243Z"
    },
    "papermill": {
     "duration": 0.013398,
     "end_time": "2023-06-12T14:15:08.979092",
     "exception": false,
     "start_time": "2023-06-12T14:15:08.965694",
     "status": "completed"
    },
    "tags": []
   },
   "outputs": [],
   "source": [
    "\n",
    "# Set the seed for reproducibility\n",
    "np.random.seed(42)\n",
    "tf.random.set_seed(42)\n",
    "\n",
    "# Data directories\n",
    "train_dir = \"dataset/train\"\n",
    "valid_dir = \"dataset/valid\"\n",
    "\n"
   ]
  },
  {
   "cell_type": "code",
   "execution_count": null,
   "id": "d4b2ca77",
   "metadata": {
    "execution": {
     "iopub.execute_input": "2023-06-12T14:15:08.990197Z",
     "iopub.status.busy": "2023-06-12T14:15:08.989931Z",
     "iopub.status.idle": "2023-06-12T14:15:09.028376Z",
     "shell.execute_reply": "2023-06-12T14:15:09.027202Z"
    },
    "papermill": {
     "duration": 0.046194,
     "end_time": "2023-06-12T14:15:09.030318",
     "exception": false,
     "start_time": "2023-06-12T14:15:08.984124",
     "status": "completed"
    },
    "tags": []
   },
   "outputs": [],
   "source": [
    "from PIL import Image\n",
    "\n",
    "image_path = r'D:\\Downloads\\plant disease detection\\dataset\\New Plant Diseases Dataset(Augmented)\\train\\Apple___Apple_scab\\0a5e9323-dbad-432d-ac58-d291718345d9___FREC_Scab 3417_90deg.JPG'  # Replace with the actual path to your image\n",
    "\n",
    "# Open the image\n",
    "image = Image.open(image_path)\n",
    "\n",
    "# Get the size of the image\n",
    "img_width, img_height = image.size\n",
    "\n",
    "print(\"Image size: {} x {}\".format(img_width, img_height))\n",
    "\n",
    "num_classes = 38\n"
   ]
  },
  {
   "cell_type": "code",
   "execution_count": null,
   "id": "681ce15e",
   "metadata": {
    "execution": {
     "iopub.execute_input": "2023-06-12T14:15:09.041424Z",
     "iopub.status.busy": "2023-06-12T14:15:09.041178Z",
     "iopub.status.idle": "2023-06-12T14:15:09.046323Z",
     "shell.execute_reply": "2023-06-12T14:15:09.045435Z"
    },
    "papermill": {
     "duration": 0.012911,
     "end_time": "2023-06-12T14:15:09.048260",
     "exception": false,
     "start_time": "2023-06-12T14:15:09.035349",
     "status": "completed"
    },
    "tags": []
   },
   "outputs": [],
   "source": [
    "\n",
    "# Data augmentation and preprocessing\n",
    "train_datagen = ImageDataGenerator(\n",
    "    rescale=1./255,\n",
    "    rotation_range=20,\n",
    "    width_shift_range=0.2,\n",
    "    height_shift_range=0.2,\n",
    "    shear_range=0.2,\n",
    "    zoom_range=0.2,\n",
    "    horizontal_flip=True\n",
    ")\n",
    "\n",
    "valid_datagen = ImageDataGenerator(rescale=1./255)\n",
    "#test_datagen = ImageDataGenerator(rescale=1./255)\n"
   ]
  },
  {
   "cell_type": "code",
   "execution_count": null,
   "id": "34ed5cce",
   "metadata": {
    "execution": {
     "iopub.execute_input": "2023-06-12T14:15:09.059801Z",
     "iopub.status.busy": "2023-06-12T14:15:09.059098Z",
     "iopub.status.idle": "2023-06-12T14:16:41.494751Z",
     "shell.execute_reply": "2023-06-12T14:16:41.493894Z"
    },
    "papermill": {
     "duration": 92.443871,
     "end_time": "2023-06-12T14:16:41.497126",
     "exception": false,
     "start_time": "2023-06-12T14:15:09.053255",
     "status": "completed"
    },
    "tags": []
   },
   "outputs": [],
   "source": [
    "train_dir = r'D:\\Downloads\\plant disease detection\\dataset\\New Plant Diseases Dataset(Augmented)\\train'\n",
    "\n",
    "train_generator = train_datagen.flow_from_directory(\n",
    "    train_dir,\n",
    "    target_size=(img_width, img_height),\n",
    "    batch_size=32,\n",
    "    class_mode='categorical'\n",
    ")\n",
    "\n",
    "valid_dir = r'D:\\Downloads\\plant disease detection\\dataset\\New Plant Diseases Dataset(Augmented)\\valid'\n",
    "\n",
    "valid_generator = valid_datagen.flow_from_directory(\n",
    "    valid_dir,\n",
    "    target_size=(img_width, img_height),\n",
    "    batch_size=32,\n",
    "    class_mode='categorical',\n",
    "    shuffle=False\n",
    ")"
   ]
  },
  {
   "cell_type": "code",
   "execution_count": null,
   "id": "8c34d2ec",
   "metadata": {
    "execution": {
     "iopub.execute_input": "2023-06-12T14:16:41.509327Z",
     "iopub.status.busy": "2023-06-12T14:16:41.509047Z",
     "iopub.status.idle": "2023-06-12T18:07:19.866172Z",
     "shell.execute_reply": "2023-06-12T18:07:19.865129Z"
    },
    "papermill": {
     "duration": 13838.365899,
     "end_time": "2023-06-12T18:07:19.868583",
     "exception": false,
     "start_time": "2023-06-12T14:16:41.502684",
     "status": "completed"
    },
    "tags": []
   },
   "outputs": [],
   "source": [
    "from tensorflow.keras.applications import DenseNet121\n",
    "# Load the pre-trained DenseNet201 model\n",
    "base_model = DenseNet121(weights='imagenet', include_top=False, input_shape=(img_width, img_height, 3))\n",
    "\n",
    "# Add custom classification layers on top of the pre-trained model\n",
    "x = base_model.output\n",
    "x = GlobalAveragePooling2D()(x)\n",
    "x = Dense(512, activation='relu')(x)\n",
    "predictions = Dense(num_classes, activation='softmax')(x)\n",
    "\n",
    "model = Model(inputs=base_model.input, outputs=predictions)\n",
    "\n",
    "# Compile the model\n",
    "model.compile(optimizer='adam', loss='categorical_crossentropy', metrics=['accuracy'])\n",
    "\n",
    "# Train the model\n",
    "history = model.fit(\n",
    "    train_generator,\n",
    "    steps_per_epoch=train_generator.samples // train_generator.batch_size,\n",
    "    epochs=10,\n",
    "    validation_data=valid_generator,\n",
    "    validation_steps=valid_generator.samples // valid_generator.batch_size\n",
    ")\n"
   ]
  },
  {
   "cell_type": "code",
   "execution_count": null,
   "id": "611d44d4",
   "metadata": {
    "execution": {
     "iopub.execute_input": "2023-06-12T18:07:23.447488Z",
     "iopub.status.busy": "2023-06-12T18:07:23.447052Z",
     "iopub.status.idle": "2023-06-12T18:07:24.968877Z",
     "shell.execute_reply": "2023-06-12T18:07:24.967924Z"
    },
    "papermill": {
     "duration": 3.447653,
     "end_time": "2023-06-12T18:07:24.971634",
     "exception": false,
     "start_time": "2023-06-12T18:07:21.523981",
     "status": "completed"
    },
    "tags": []
   },
   "outputs": [],
   "source": [
    "model.save('trained.h5')"
   ]
  },
  {
   "cell_type": "code",
   "execution_count": null,
   "id": "d2d52aad",
   "metadata": {
    "execution": {
     "iopub.execute_input": "2023-06-12T18:07:28.457144Z",
     "iopub.status.busy": "2023-06-12T18:07:28.456768Z",
     "iopub.status.idle": "2023-06-12T18:08:58.593563Z",
     "shell.execute_reply": "2023-06-12T18:08:58.592543Z"
    },
    "papermill": {
     "duration": 93.652381,
     "end_time": "2023-06-12T18:09:00.371080",
     "exception": false,
     "start_time": "2023-06-12T18:07:26.718699",
     "status": "completed"
    },
    "tags": []
   },
   "outputs": [],
   "source": [
    "import tensorflow as tf\n",
    "from tensorflow.keras.preprocessing.image import ImageDataGenerator\n",
    "\n",
    "# Load the pre-trained model\n",
    "model = tf.keras.models.load_model('trained.h5')\n",
    "\n",
    "# Evaluation\n",
    "\n",
    "loss, accuracy = model.evaluate(valid_generator)\n",
    "print('Accuracy: {:.2f}%'.format(accuracy * 100))\n"
   ]
  }
 ],
 "metadata": {
  "kernelspec": {
   "display_name": "Python 3 (ipykernel)",
   "language": "python",
   "name": "python3"
  },
  "language_info": {
   "codemirror_mode": {
    "name": "ipython",
    "version": 3
   },
   "file_extension": ".py",
   "mimetype": "text/x-python",
   "name": "python",
   "nbconvert_exporter": "python",
   "pygments_lexer": "ipython3",
   "version": "3.11.1"
  },
  "papermill": {
   "default_parameters": {},
   "duration": 14072.427913,
   "end_time": "2023-06-12T18:09:09.278082",
   "environment_variables": {},
   "exception": null,
   "input_path": "__notebook__.ipynb",
   "output_path": "__notebook__.ipynb",
   "parameters": {},
   "start_time": "2023-06-12T14:14:36.850169",
   "version": "2.4.0"
  }
 },
 "nbformat": 4,
 "nbformat_minor": 5
}
